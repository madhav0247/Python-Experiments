{
  "nbformat": 4,
  "nbformat_minor": 0,
  "metadata": {
    "colab": {
      "provenance": []
    },
    "kernelspec": {
      "name": "python3",
      "display_name": "Python 3"
    },
    "language_info": {
      "name": "python"
    }
  },
  "cells": [
    {
      "cell_type": "markdown",
      "source": [
        "# Python Experiment No: 12"
      ],
      "metadata": {
        "id": "kvqnWoVxjB4f"
      }
    },
    {
      "cell_type": "markdown",
      "source": [
        "Name: Madhav Prakash Pachakale.       \n",
        "\n",
        "Class: SE3/S3/65"
      ],
      "metadata": {
        "id": "Y3FKyWrwjG_V"
      }
    },
    {
      "cell_type": "code",
      "execution_count": 2,
      "metadata": {
        "colab": {
          "base_uri": "https://localhost:8080/"
        },
        "id": "xTWNYoG8iR5j",
        "outputId": "98ee2b60-e0f9-44d0-da6c-cf0e8e6e24b1"
      },
      "outputs": [
        {
          "output_type": "stream",
          "name": "stdout",
          "text": [
            "Name: Madhav Prakash Pachakale.       Class: SE3/S3/65\n",
            "Original DataFrame:\n",
            "   Product  Price  Stock     Category\n",
            "0    Shoes     60     50     Clothing\n",
            "1  T-Shirt     20    100     Clothing\n",
            "2   Jacket    120     30     Clothing\n",
            "3      Hat     15     80  Accessories\n",
            "4    Socks      5    200  Accessories\n",
            "\n",
            "DataFrame after adding Discounted Price:\n",
            "   Product  Price  Stock     Category  Discounted Price\n",
            "0    Shoes     60     50     Clothing             51.00\n",
            "1  T-Shirt     20    100     Clothing             17.00\n",
            "2   Jacket    120     30     Clothing            102.00\n",
            "3      Hat     15     80  Accessories             12.75\n",
            "4    Socks      5    200  Accessories              4.25\n",
            "\n",
            "Filtered Products (Price > 50):\n",
            "  Product  Price  Stock  Category  Discounted Price\n",
            "0   Shoes     60     50  Clothing              51.0\n",
            "2  Jacket    120     30  Clothing             102.0\n",
            "\n",
            "Average Price per Category:\n",
            "Category\n",
            "Accessories    10.000000\n",
            "Clothing       66.666667\n",
            "Name: Price, dtype: float64\n",
            "\n",
            "Data saved to product_data.csv\n"
          ]
        }
      ],
      "source": [
        "import pandas as pd\n",
        "\n",
        "print(\"Name: Madhav Prakash Pachakale.       Class: SE3/S3/65\")\n",
        "data = {\n",
        "    \"Product\": [\"Shoes\", \"T-Shirt\", \"Jacket\", \"Hat\", \"Socks\"],\n",
        "    \"Price\": [60, 20, 120, 15, 5],\n",
        "    \"Stock\": [50, 100, 30, 80, 200],\n",
        "    \"Category\": [\"Clothing\", \"Clothing\", \"Clothing\", \"Accessories\", \"Accessories\"]\n",
        "}\n",
        "df = pd.DataFrame(data)\n",
        "\n",
        "print(\"Original DataFrame:\")\n",
        "print(df)\n",
        "\n",
        "df[\"Discounted Price\"] = df[\"Price\"] * 0.85\n",
        "print(\"\\nDataFrame after adding Discounted Price:\")\n",
        "print(df)\n",
        "\n",
        "filtered_df = df[df[\"Price\"] > 50]\n",
        "print(\"\\nFiltered Products (Price > 50):\")\n",
        "print(filtered_df)\n",
        "\n",
        "category_avg_price = df.groupby(\"Category\")[\"Price\"].mean()\n",
        "print(\"\\nAverage Price per Category:\")\n",
        "print(category_avg_price)\n",
        "\n",
        "df.to_csv(\"product_data.csv\", index=False)\n",
        "print(\"\\nData saved to product_data.csv\")\n"
      ]
    }
  ]
}