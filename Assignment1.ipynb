{
  "nbformat": 4,
  "nbformat_minor": 0,
  "metadata": {
    "colab": {
      "provenance": []
    },
    "kernelspec": {
      "name": "python3",
      "display_name": "Python 3"
    },
    "language_info": {
      "name": "python"
    }
  },
  "cells": [
    {
      "cell_type": "code",
      "execution_count": 1,
      "metadata": {
        "colab": {
          "base_uri": "https://localhost:8080/"
        },
        "id": "Kl06QlVz9XWN",
        "outputId": "1f4a4d3a-2eaf-4ff1-cc19-ee65f0652a42"
      },
      "outputs": [
        {
          "output_type": "stream",
          "name": "stdout",
          "text": [
            "\n",
            "Product Management System\n",
            "1. Add Product\n",
            "2. Update Stock\n",
            "3. View Product Details\n",
            "4. Exit\n",
            "Enter your choice: 1\n",
            "Enter product name: MacBook\n",
            "Enter product price: 1500\n",
            "Enter stock quantity: 5\n",
            "Product added successfully!\n",
            "\n",
            "Product Management System\n",
            "1. Add Product\n",
            "2. Update Stock\n",
            "3. View Product Details\n",
            "4. Exit\n",
            "Enter your choice: 2\n",
            "Enter product name: MacBook\n",
            "Enter quantity to add/remove (negative to remove): 2\n",
            "Stock updated successfully!\n",
            "\n",
            "Product Management System\n",
            "1. Add Product\n",
            "2. Update Stock\n",
            "3. View Product Details\n",
            "4. Exit\n",
            "Enter your choice: 3\n",
            "Enter product name: MacBook\n",
            "Product: MacBook, Price: $1500.00, Stock: 7\n",
            "\n",
            "Product Management System\n",
            "1. Add Product\n",
            "2. Update Stock\n",
            "3. View Product Details\n",
            "4. Exit\n",
            "Enter your choice: 4\n",
            "Exiting the system.  Goodbye!\n"
          ]
        }
      ],
      "source": [
        "class Product:\n",
        "    def __init__(self, name, price, stock):\n",
        "        self.name = name\n",
        "        self.price = price\n",
        "        self.stock = stock\n",
        "\n",
        "    def update_stock(self, quantity):\n",
        "        self.stock += quantity\n",
        "\n",
        "    def __str__(self):\n",
        "        return f\"Product: {self.name}, Price: ${self.price:.2f}, Stock: {self.stock}\"\n",
        "\n",
        "\n",
        "def main():\n",
        "    products = {}\n",
        "\n",
        "    while True:\n",
        "        print(\"\\nProduct Management System\")\n",
        "        print(\"1. Add Product\")\n",
        "        print(\"2. Update Stock\")\n",
        "        print(\"3. View Product Details\")\n",
        "        print(\"4. Exit\")\n",
        "        choice = input(\"Enter your choice: \")\n",
        "\n",
        "        if choice == \"1\":\n",
        "            name = input(\"Enter product name: \")\n",
        "            price = float(input(\"Enter product price: \"))\n",
        "            stock = int(input(\"Enter stock quantity: \"))\n",
        "            products[name] = Product(name, price, stock)\n",
        "            print(\"Product added successfully!\")\n",
        "\n",
        "        elif choice == \"2\":\n",
        "            name = input(\"Enter product name: \")\n",
        "            if name in products:\n",
        "                quantity = int(input(\"Enter quantity to add/remove (negative to remove): \"))\n",
        "                products[name].update_stock(quantity)\n",
        "                print(\"Stock updated successfully!\")\n",
        "            else:\n",
        "                print(\"Product not found!\")\n",
        "\n",
        "        elif choice == \"3\":\n",
        "            name = input(\"Enter product name: \")\n",
        "            if name in products:\n",
        "                print(products[name])\n",
        "            else:\n",
        "                print(\"Product not found!\")\n",
        "\n",
        "        elif choice == \"4\":\n",
        "            print(\"Exiting the system.  Goodbye!\")\n",
        "            break\n",
        "        else:\n",
        "            print(\"Invalid choice. Please try again.\")\n",
        "\n",
        "\n",
        "if __name__ == \"__main__\":\n",
        "    main()"
      ]
    }
  ]
}