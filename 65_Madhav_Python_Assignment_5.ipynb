{
  "cells": [
    {
      "cell_type": "markdown",
      "metadata": {
        "id": "view-in-github",
        "colab_type": "text"
      },
      "source": [
        "<a href=\"https://colab.research.google.com/github/madhav0247/Python-Experiments/blob/main/65_Madhav_Python_Assignment_5.ipynb\" target=\"_parent\"><img src=\"https://colab.research.google.com/assets/colab-badge.svg\" alt=\"Open In Colab\"/></a>"
      ]
    },
    {
      "cell_type": "markdown",
      "source": [
        "# Python Assignment No: 05"
      ],
      "metadata": {
        "id": "BBFFW_gU_T_N"
      },
      "id": "BBFFW_gU_T_N"
    },
    {
      "cell_type": "markdown",
      "id": "bb5cb9a1-0f2a-4db5-9192-cb188acf1631",
      "metadata": {
        "id": "bb5cb9a1-0f2a-4db5-9192-cb188acf1631"
      },
      "source": [
        "Name: Madhav Prakash Pachakale.\n",
        "\n",
        "Class: SE3/S3/65"
      ]
    },
    {
      "cell_type": "code",
      "execution_count": 2,
      "id": "ffa692ac-9a5f-40e9-a7ac-7a9a39fef536",
      "metadata": {
        "colab": {
          "base_uri": "https://localhost:8080/"
        },
        "id": "ffa692ac-9a5f-40e9-a7ac-7a9a39fef536",
        "outputId": "b478f5c7-d934-4ba7-e761-42e91d11ae18"
      },
      "outputs": [
        {
          "output_type": "stream",
          "name": "stdout",
          "text": [
            "Madhav P Pachakale - SE3/S3/65\n",
            "Number at the beginning : [0.0, 100.0, 200.0]\n",
            "Value in the end : [2000.0, 2100.0, 2200.0]\n"
          ]
        }
      ],
      "source": [
        "from multiprocessing import Process, Array, Lock\n",
        "from time import sleep\n",
        "\n",
        "def addThousands(inputNumber, lock):\n",
        "    for _ in range(1000):\n",
        "        sleep(0.01)\n",
        "        with lock:\n",
        "            for i in range(len(inputNumber)):\n",
        "                inputNumber[i] += 1\n",
        "\n",
        "if __name__ == '__main__':\n",
        "    sharedArray = Array('d', [0.0, 100.0, 200.0])\n",
        "    lock = Lock()\n",
        "    print('Madhav P Pachakale - SE3/S3/65')\n",
        "    print(f'Number at the beginning : {sharedArray[:]}')\n",
        "\n",
        "    firstProcess = Process(target=addThousands, args=(sharedArray, lock))\n",
        "    secondProcess = Process(target=addThousands, args=(sharedArray, lock))\n",
        "\n",
        "    firstProcess.start()\n",
        "    secondProcess.start()\n",
        "\n",
        "    firstProcess.join()\n",
        "    secondProcess.join()\n",
        "\n",
        "    print(f'Value in the end : {sharedArray[:]}')"
      ]
    },
    {
      "cell_type": "code",
      "execution_count": null,
      "id": "4f929893-260d-4d99-a26b-814e9f51280a",
      "metadata": {
        "id": "4f929893-260d-4d99-a26b-814e9f51280a"
      },
      "outputs": [],
      "source": []
    }
  ],
  "metadata": {
    "kernelspec": {
      "display_name": "Python 3",
      "language": "python",
      "name": "python3"
    },
    "language_info": {
      "codemirror_mode": {
        "name": "ipython",
        "version": 3
      },
      "file_extension": ".py",
      "mimetype": "text/x-python",
      "name": "python",
      "nbconvert_exporter": "python",
      "pygments_lexer": "ipython3",
      "version": "3.11.9"
    },
    "colab": {
      "provenance": [],
      "include_colab_link": true
    }
  },
  "nbformat": 4,
  "nbformat_minor": 5
}