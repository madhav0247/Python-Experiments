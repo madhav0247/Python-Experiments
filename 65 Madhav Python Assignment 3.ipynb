{
  "nbformat": 4,
  "nbformat_minor": 0,
  "metadata": {
    "colab": {
      "provenance": []
    },
    "kernelspec": {
      "name": "python3",
      "display_name": "Python 3"
    },
    "language_info": {
      "name": "python"
    }
  },
  "cells": [
    {
      "cell_type": "markdown",
      "source": [
        "#**Python Assignment No: 03**"
      ],
      "metadata": {
        "id": "09gXE0vuN6Bt"
      }
    },
    {
      "cell_type": "markdown",
      "source": [
        "NAME: MADHAV PRAKASH PACHAKALE.\n",
        "\n",
        "CLASS: SE3/S3/65"
      ],
      "metadata": {
        "id": "gzxr371cN5xd"
      }
    },
    {
      "cell_type": "code",
      "execution_count": null,
      "metadata": {
        "colab": {
          "base_uri": "https://localhost:8080/"
        },
        "id": "m4Oa6D3bNT5r",
        "outputId": "026c6ae8-dd51-4960-ecc5-b2bebfe27b5d"
      },
      "outputs": [
        {
          "output_type": "stream",
          "name": "stdout",
          "text": [
            "Madhav P Pachakale - 65\n",
            "[4, 5, 1, 2, 3]\n",
            "[2, 0, 1]\n"
          ]
        }
      ],
      "source": [
        "class ListNode:\n",
        "    def __init__(self, val=0, next=None):\n",
        "        self.val = val\n",
        "        self.next = next\n",
        "\n",
        "def rotateRight(head, k):\n",
        "    if not head or not head.next or k == 0:\n",
        "        return head\n",
        "\n",
        "    length = 1\n",
        "    tail = head\n",
        "    while tail.next:\n",
        "        tail = tail.next\n",
        "        length += 1\n",
        "\n",
        "    tail.next = head\n",
        "    k = k % length\n",
        "    steps = length - k\n",
        "\n",
        "    for _ in range(steps):\n",
        "        tail = tail.next\n",
        "\n",
        "    new_head = tail.next\n",
        "    tail.next = None\n",
        "\n",
        "    return new_head\n",
        "\n",
        "def list_to_linked_list(lst):\n",
        "    head = ListNode(lst[0])\n",
        "    current = head\n",
        "    for val in lst[1:]:\n",
        "        current.next = ListNode(val)\n",
        "        current = current.next\n",
        "    return head\n",
        "\n",
        "def linked_list_to_list(head):\n",
        "    result = []\n",
        "    while head:\n",
        "        result.append(head.val)\n",
        "        head = head.next\n",
        "    return result\n",
        "\n",
        "print(\"Madhav P Pachakale - 65\")\n",
        "head1 = list_to_linked_list([1, 2, 3, 4, 5])\n",
        "rotated1 = rotateRight(head1, 2)\n",
        "print(linked_list_to_list(rotated1))\n",
        "\n",
        "head2 = list_to_linked_list([0, 1, 2])\n",
        "rotated2 = rotateRight(head2, 4)\n",
        "print(linked_list_to_list(rotated2))\n"
      ]
    }
  ]
}