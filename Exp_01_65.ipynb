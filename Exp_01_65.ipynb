{
  "cells": [
    {
      "cell_type": "code",
      "execution_count": 2,
      "metadata": {
        "colab": {
          "base_uri": "https://localhost:8080/"
        },
        "id": "s63lnaClNZMc",
        "outputId": "e5f1f431-64d2-44c5-f470-9798a40ffba0"
      },
      "outputs": [
        {
          "output_type": "stream",
          "name": "stdout",
          "text": [
            "<class 'str'>\n",
            "HELLO MY NAME IS MADHAV PACHAKALE\n",
            "hello my name is madhav pachakale\n",
            "el\n",
            "8991571582566963092\n"
          ]
        }
      ],
      "source": [
        "#string operations\n",
        "str = \"Hello my name is madhav pachakale\"\n",
        "print(type(str))\n",
        "print(str.upper()) # convert string to uppercase\n",
        "print(str.lower())\n",
        "print(str[1:3])\n",
        "print(hash(str))"
      ]
    },
    {
      "cell_type": "code",
      "execution_count": null,
      "metadata": {
        "id": "urh2TRLsNZMf",
        "outputId": "5459db8c-7056-4f56-d382-16c70ed3c34f"
      },
      "outputs": [
        {
          "name": "stdout",
          "output_type": "stream",
          "text": [
            "[1, 'Hello World', True, 1.345]\n",
            "[1, 'Hello World', True, 1.345, 7]\n",
            "1 <class 'int'>\n",
            "Hello World <class 'str'>\n",
            "True <class 'bool'>\n",
            "1.345 <class 'float'>\n",
            "7 <class 'int'>\n"
          ]
        }
      ],
      "source": [
        "#list operations\n",
        "list_1 = [1,\"Hello World\",True,1.345]\n",
        "print(list_1)\n",
        "list_1.insert(len(list_1),7)\n",
        "print(list_1,sep=\" \") # insert 7 at the end of the list\n",
        "for x in list_1:\n",
        "    print(x,type(x))"
      ]
    },
    {
      "cell_type": "code",
      "execution_count": null,
      "metadata": {
        "id": "bJm4lg4qNZMg",
        "outputId": "88717b69-5cbc-4030-e1f7-f75848e589ab"
      },
      "outputs": [
        {
          "name": "stdout",
          "output_type": "stream",
          "text": [
            "{1: 'House', 2: 'of', 3: 'Dragons', 5: 'Game', 6: 'of', 7: 'Thrones'}\n"
          ]
        }
      ],
      "source": [
        "#Dictionary operations\n",
        "D = {1:\"House\",2:\"of\",3:\"Dragons\",4:\"is a part of\",5:\"Game\",6:\"of\",7:\"Thrones\"}\n",
        "del D[4]\n",
        "print(D)"
      ]
    },
    {
      "cell_type": "code",
      "execution_count": null,
      "metadata": {
        "id": "GdkRyiHVNZMg",
        "outputId": "1c4cb010-dffd-4327-e605-4bcd1c924d1e"
      },
      "outputs": [
        {
          "name": "stdout",
          "output_type": "stream",
          "text": [
            "(1, 'Hello World', True, 2.645)\n",
            "2\n",
            "0\n"
          ]
        }
      ],
      "source": [
        "#Tuple operations\n",
        "tuple_1 = (1,\"Hello World\",True,2.645)\n",
        "print(tuple_1,sep=\" \")\n",
        "print(tuple_1.count(1))\n",
        "print(tuple_1.index(1)) # returns the index of the first occurrence of the specified value"
      ]
    },
    {
      "cell_type": "code",
      "execution_count": null,
      "metadata": {
        "id": "myDw_pOsNZMh",
        "outputId": "4fd8011b-916b-4bf4-baab-e4f1456965b7"
      },
      "outputs": [
        {
          "name": "stdout",
          "output_type": "stream",
          "text": [
            "{1, 2, 3, 4, 5}\n",
            "{1, 2, 3, 4, 5, 6}\n",
            "{1, 2, 3, 4, 5}\n",
            "{1, 2, 3, 4, 5, 6, 7, 8}\n",
            "{4, 5}\n",
            "{1, 2, 3, 6, 7, 8}\n"
          ]
        }
      ],
      "source": [
        "#set operations\n",
        "set_1 = {1,2,3,4,5}\n",
        "print(set_1,sep=\" \")\n",
        "set_1.add(6)\n",
        "print(set_1,sep=\"\")\n",
        "set_1.remove(6)\n",
        "print(set_1,sep=\"\")\n",
        "set_2={4,5,6,7,8}\n",
        "print(set_1.union(set_2))\n",
        "print(set_1.intersection(set_2))\n",
        "print(set_1 ^ set_2)"
      ]
    }
  ],
  "metadata": {
    "kernelspec": {
      "display_name": "Python 3",
      "language": "python",
      "name": "python3"
    },
    "language_info": {
      "codemirror_mode": {
        "name": "ipython",
        "version": 3
      },
      "file_extension": ".py",
      "mimetype": "text/x-python",
      "name": "python",
      "nbconvert_exporter": "python",
      "pygments_lexer": "ipython3",
      "version": "3.11.9"
    },
    "colab": {
      "provenance": []
    }
  },
  "nbformat": 4,
  "nbformat_minor": 0
}