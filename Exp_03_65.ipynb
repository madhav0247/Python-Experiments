{
  "cells": [
    {
      "cell_type": "code",
      "execution_count": 1,
      "metadata": {
        "colab": {
          "base_uri": "https://localhost:8080/"
        },
        "id": "tURgJcEeiQLj",
        "outputId": "f97da37e-ab3e-487e-8b9a-d65b6f7506b1"
      },
      "outputs": [
        {
          "output_type": "stream",
          "name": "stdout",
          "text": [
            "FirstEmp:  The person is FullStack Developer\n",
            "SecondEmp:  The person is Frontend Developer\n",
            "ThirdEmp:  The person is Backend Developer\n",
            "FourthEmp:  The person is not a Developer\n"
          ]
        }
      ],
      "source": [
        "'''\n",
        "General case represents that developer working on\n",
        "frontend cannot work backend development unless he/she is fullstack dev.\n",
        "\n",
        "Write a method named verifier () that checks this condition.\n",
        "\n",
        "The method should check that if frontend is True and backend is True,\n",
        "the method returns Fullstack as string. If one of them is True, it should return\n",
        "the respective desgination, and if none of them are true, it returns,\n",
        "not a developer respetively.\n",
        "'''\n",
        "class Employee:\n",
        "    def __init__ (\n",
        "            self,\n",
        "            designation : str = 'Developer',\n",
        "            frontend : bool = False,\n",
        "            backend : bool = False\n",
        "    ):\n",
        "        self.designation = designation\n",
        "        self.frontend = frontend\n",
        "        self.backend = backend\n",
        "\n",
        "    def __repr__ (self):\n",
        "        return '{}'.format(self.designation)\n",
        "\n",
        "    def verifier(self):\n",
        "        if self.frontend and self.backend:\n",
        "            return \"The person is FullStack Developer\"\n",
        "        elif self.frontend and not self.backend:\n",
        "            return \"The person is Frontend Developer\"\n",
        "        elif self.backend and not self.frontend:\n",
        "            return \"The person is Backend Developer\"\n",
        "        else:\n",
        "            return \"The person is not a Developer\"\n",
        "\n",
        "if __name__ == '__main__':\n",
        "    firstEmployee = Employee(frontend=True, backend= True)\n",
        "    print(\"FirstEmp: \",firstEmployee.verifier())\n",
        "\n",
        "    secondEmployee = Employee(frontend=True)\n",
        "    print(\"SecondEmp: \",secondEmployee.verifier())\n",
        "\n",
        "    thirdEmployee = Employee(backend=True)\n",
        "    print(\"ThirdEmp: \",thirdEmployee.verifier())\n",
        "\n",
        "    fourthEmployee = Employee()\n",
        "    print(\"FourthEmp: \",fourthEmployee.verifier())\n",
        "\n"
      ]
    }
  ],
  "metadata": {
    "kernelspec": {
      "display_name": "Python 3",
      "language": "python",
      "name": "python3"
    },
    "language_info": {
      "codemirror_mode": {
        "name": "ipython",
        "version": 3
      },
      "file_extension": ".py",
      "mimetype": "text/x-python",
      "name": "python",
      "nbconvert_exporter": "python",
      "pygments_lexer": "ipython3",
      "version": "3.11.9"
    },
    "colab": {
      "provenance": []
    }
  },
  "nbformat": 4,
  "nbformat_minor": 0
}