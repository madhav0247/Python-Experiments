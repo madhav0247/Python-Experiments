{
  "nbformat": 4,
  "nbformat_minor": 0,
  "metadata": {
    "colab": {
      "provenance": []
    },
    "kernelspec": {
      "name": "python3",
      "display_name": "Python 3"
    },
    "language_info": {
      "name": "python"
    }
  },
  "cells": [
    {
      "cell_type": "markdown",
      "source": [
        "# Python Experiment No: 11"
      ],
      "metadata": {
        "id": "3L-SINKgdY4u"
      }
    },
    {
      "cell_type": "markdown",
      "source": [
        "Name: Madhav Prakash Pachakale.\n",
        "\n",
        "Class: SE3/S3/65"
      ],
      "metadata": {
        "id": "XNJsp2lOdj3O"
      }
    },
    {
      "cell_type": "code",
      "execution_count": 3,
      "metadata": {
        "colab": {
          "base_uri": "https://localhost:8080/"
        },
        "id": "ysKwZjW2ZcGF",
        "outputId": "3f84c662-8a61-4c1e-858a-c6878b0bace7"
      },
      "outputs": [
        {
          "output_type": "stream",
          "name": "stdout",
          "text": [
            "Name: Madhav Prakash Pachakale.   Class: SE3/S3/65\n",
            "1. Array Creation Techniques\n",
            "Array from list: [1 2 3 4 5]\n",
            "Array using arange(): [0 2 4 6 8]\n",
            "Array using linspace(): [ 0.   2.5  5.   7.5 10. ]\n",
            "Array using zeros():\n",
            " [[0. 0. 0.]\n",
            " [0. 0. 0.]\n",
            " [0. 0. 0.]]\n",
            "Array using ones():\n",
            " [[1. 1.]\n",
            " [1. 1.]]\n",
            "Array using eye() for identity matrix:\n",
            " [[1. 0. 0.]\n",
            " [0. 1. 0.]\n",
            " [0. 0. 1.]]\n",
            "Array using random():\n",
            " [[0.89445287 0.73131026 0.18389612]\n",
            " [0.38141738 0.58245741 0.44130747]\n",
            " [0.68147723 0.35550251 0.76976466]]\n",
            "\n",
            "2. NumPy Methods\n",
            "Reshaped array:\n",
            " [[1 2 3]\n",
            " [4 5 6]\n",
            " [7 8 9]]\n",
            "Transposed array:\n",
            " [[1 4 7]\n",
            " [2 5 8]\n",
            " [3 6 9]]\n",
            "Array + 2: [3 4 5]\n",
            "Array * 3: [3 6 9]\n",
            "Square root of array: [1.         1.41421356 1.73205081]\n",
            "Sum of array: 6\n",
            "Mean of array: 2.0\n",
            "Max of array: 3\n",
            "Min of array: 1\n",
            "Concatenated array: [1 2 3 4 5 6]\n",
            "Sorted array: [1 2 3 4]\n",
            "Indexed value (array_math[1]): 2\n",
            "Sliced array (array_math[1:3]): [2 3]\n",
            "Boolean mask (array_math > 2): [False False  True]\n",
            "Array values with boolean mask: [3]\n"
          ]
        }
      ],
      "source": [
        "import numpy as np\n",
        "\n",
        "print(\"Name: Madhav Prakash Pachakale.   Class: SE3/S3/65\")\n",
        "print(\"1. Array Creation Techniques\")\n",
        "\n",
        "array_from_list = np.array([1, 2, 3, 4, 5])\n",
        "print(\"Array from list:\", array_from_list)\n",
        "\n",
        "array_arange = np.arange(0, 10, 2)\n",
        "print(\"Array using arange():\", array_arange)\n",
        "\n",
        "array_linspace = np.linspace(0, 10, 5)\n",
        "print(\"Array using linspace():\", array_linspace)\n",
        "\n",
        "array_zeros = np.zeros((3, 3))\n",
        "print(\"Array using zeros():\\n\", array_zeros)\n",
        "\n",
        "array_ones = np.ones((2, 2))\n",
        "print(\"Array using ones():\\n\", array_ones)\n",
        "\n",
        "array_eye = np.eye(3)\n",
        "print(\"Array using eye() for identity matrix:\\n\", array_eye)\n",
        "\n",
        "array_random = np.random.random((3, 3))\n",
        "print(\"Array using random():\\n\", array_random)\n",
        "\n",
        "print(\"\\n2. NumPy Methods\")\n",
        "\n",
        "reshaped_array = np.arange(1, 10).reshape(3, 3)\n",
        "print(\"Reshaped array:\\n\", reshaped_array)\n",
        "\n",
        "transposed_array = reshaped_array.T\n",
        "print(\"Transposed array:\\n\", transposed_array)\n",
        "\n",
        "array_math = np.array([1, 2, 3])\n",
        "print(\"Array + 2:\", array_math + 2)\n",
        "print(\"Array * 3:\", array_math * 3)\n",
        "print(\"Square root of array:\", np.sqrt(array_math))\n",
        "\n",
        "print(\"Sum of array:\", np.sum(array_math))\n",
        "print(\"Mean of array:\", np.mean(array_math))\n",
        "print(\"Max of array:\", np.max(array_math))\n",
        "print(\"Min of array:\", np.min(array_math))\n",
        "\n",
        "array_a = np.array([1, 2, 3])\n",
        "array_b = np.array([4, 5, 6])\n",
        "concat_array = np.concatenate((array_a, array_b))\n",
        "print(\"Concatenated array:\", concat_array)\n",
        "\n",
        "unsorted_array = np.array([3, 1, 4, 2])\n",
        "sorted_array = np.sort(unsorted_array)\n",
        "print(\"Sorted array:\", sorted_array)\n",
        "\n",
        "indexed_value = array_math[1]\n",
        "print(\"Indexed value (array_math[1]):\", indexed_value)\n",
        "sliced_array = array_math[1:3]\n",
        "print(\"Sliced array (array_math[1:3]):\", sliced_array)\n",
        "\n",
        "boolean_mask = array_math > 2\n",
        "print(\"Boolean mask (array_math > 2):\", boolean_mask)\n",
        "print(\"Array values with boolean mask:\", array_math[boolean_mask])\n"
      ]
    }
  ]
}