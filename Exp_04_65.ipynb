{
  "nbformat": 4,
  "nbformat_minor": 0,
  "metadata": {
    "colab": {
      "provenance": []
    },
    "kernelspec": {
      "name": "python3",
      "display_name": "Python 3"
    },
    "language_info": {
      "name": "python"
    }
  },
  "cells": [
    {
      "cell_type": "code",
      "execution_count": 1,
      "metadata": {
        "id": "EEJJ1Amk9ewF"
      },
      "outputs": [],
      "source": [
        "from contextlib import contextmanager\n",
        "\n",
        "@contextmanager\n",
        "def genericFileFunction (filename, method):\n",
        "    file = open (filename, method)\n",
        "    yield file\n",
        "    file.close ()\n",
        "\n",
        "if __name__ == '__main__':\n",
        "    with genericFileFunction ('test.txt','w') as f:\n",
        "      f.write('this is the second part')\n",
        "    # Remove the pass and call the function to perform write.\n",
        "    # Read the file that was created while writing.\n",
        "    # Make the changes in the file by appending some material.\n",
        "    # Again read the same file.\n",
        "\n",
        "    '''\n",
        "    Print all the output of the function.\n",
        "    For better representation, please use jupyter.\n",
        "    Will also aid in easy maintanence of files for submissions.\n",
        "    '''\n",
        "\n"
      ]
    },
    {
      "cell_type": "code",
      "source": [
        "from contextlib import contextmanager\n",
        "\n",
        "@contextmanager\n",
        "def genericFileFunction (filename, method):\n",
        "    file = open (filename, method)\n",
        "    yield file\n",
        "    file.close ()\n",
        "\n",
        "if __name__ == '__main__':\n",
        "    with genericFileFunction ('test.txt','r') as f:\n",
        "      print(f.read())\n",
        "    # Remove the pass and call the function to perform write.\n",
        "    # Read the file that was created while writing.\n",
        "    # Make the changes in the file by appending some material.\n",
        "    # Again read the same file.\n",
        "\n",
        "    '''\n",
        "    Print all the output of the function.\n",
        "    For better representation, please use jupyter.\n",
        "    Will also aid in easy maintanence of files for submissions.\n",
        "    '''\n",
        "\n"
      ],
      "metadata": {
        "colab": {
          "base_uri": "https://localhost:8080/"
        },
        "id": "bhevRNaLA4DO",
        "outputId": "c577f661-ddd5-47c5-e914-2f84529c1f84"
      },
      "execution_count": 4,
      "outputs": [
        {
          "output_type": "stream",
          "name": "stdout",
          "text": [
            "this is the second partthis is the second part\n"
          ]
        }
      ]
    },
    {
      "cell_type": "code",
      "source": [
        "from contextlib import contextmanager\n",
        "\n",
        "@contextmanager\n",
        "def genericFileFunction (filename, method):\n",
        "    file = open (filename, method)\n",
        "    yield file\n",
        "    file.close ()\n",
        "\n",
        "if __name__ == '__main__':\n",
        "    with genericFileFunction ('test.txt','a') as f:\n",
        "      f.write('this is the second part')\n",
        "    # Remove the pass and call the function to perform write.\n",
        "    # Read the file that was created while writing.\n",
        "    # Make the changes in the file by appending some material.\n",
        "    # Again read the same file.\n",
        "\n",
        "    '''\n",
        "    Print all the output of the function.\n",
        "    For better representation, please use jupyter.\n",
        "    Will also aid in easy maintanence of files for submissions.\n",
        "    '''\n",
        "\n"
      ],
      "metadata": {
        "id": "ntgmTpjzB0om"
      },
      "execution_count": 3,
      "outputs": []
    },
    {
      "cell_type": "code",
      "source": [
        "from contextlib import contextmanager\n",
        "\n",
        "@contextmanager\n",
        "def genericFileFunction (filename, method):\n",
        "    file = open (filename, method)\n",
        "    yield file\n",
        "    file.close ()\n",
        "\n",
        "if __name__ == '__main__':\n",
        "    with genericFileFunction ('test.txt','r') as f:\n",
        "      print(f.read())\n",
        "    # Remove the pass and call the function to perform write.\n",
        "    # Read the file that was created while writing.\n",
        "    # Make the changes in the file by appending some material.\n",
        "    # Again read the same file.\n",
        "\n",
        "    '''\n",
        "    Print all the output of the function.\n",
        "    For better representation, please use jupyter.\n",
        "    Will also aid in easy maintanence of files for submissions.\n",
        "    '''\n",
        "\n"
      ],
      "metadata": {
        "colab": {
          "base_uri": "https://localhost:8080/"
        },
        "id": "xfRfGivqB7W1",
        "outputId": "913ae701-6fa8-4409-c9b6-1d65e38f94f2"
      },
      "execution_count": 2,
      "outputs": [
        {
          "output_type": "stream",
          "name": "stdout",
          "text": [
            "this is the second part\n"
          ]
        }
      ]
    }
  ]
}