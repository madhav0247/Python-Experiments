{
  "cells": [
    {
      "cell_type": "code",
      "execution_count": 7,
      "metadata": {
        "colab": {
          "base_uri": "https://localhost:8080/"
        },
        "id": "Xt5XSMMh4fAv",
        "outputId": "7f7bbb25-412f-4ed5-bc61-1f4ff84c40a7"
      },
      "outputs": [
        {
          "output_type": "stream",
          "name": "stdout",
          "text": [
            "Enter Method is executed\n",
            "Middle part is executed\n",
            "More generic content\n",
            "\n",
            "<class 'Exception'>, , <traceback object at 0x7f2b98c35c00>\n",
            "Exit method is executed\n"
          ]
        }
      ],
      "source": [
        "class File:\n",
        "    def __init__(self, filename, method):\n",
        "        self.file = open(filename, method)\n",
        "\n",
        "    def __enter__(self):\n",
        "        print(\"Enter Method is executed\")\n",
        "        return self.file\n",
        "\n",
        "    def __exit__(self, type, value, traceback):\n",
        "        print(f\"\\n{type}, {value}, {traceback}\")\n",
        "        print(\"Exit method is executed\")\n",
        "        self.file.close()\n",
        "        # Ensure that the exception is suppressed\n",
        "        if issubclass(type, Exception):\n",
        "            return True\n",
        "\n",
        "if __name__ == '__main__':\n",
        "    with File('./test.txt', 'r') as f:\n",
        "        print(\"Middle part is executed\")\n",
        "        print(f.read())\n",
        "        raise Exception()\n"
      ]
    },
    {
      "cell_type": "code",
      "execution_count": 2,
      "metadata": {
        "colab": {
          "base_uri": "https://localhost:8080/"
        },
        "id": "FA-Y0TJE6c7G",
        "outputId": "0b0dc6d5-d624-48d3-d00a-534cfe1c80f5"
      },
      "outputs": [
        {
          "output_type": "stream",
          "name": "stdout",
          "text": [
            "Enter Method is executed\n",
            "Middle part is executed\n",
            "<class 'Exception'>, , <traceback object at 0x7f2b99383080>\n",
            "Exit method is executed\n"
          ]
        }
      ],
      "source": [
        "class File:\n",
        "    def __init__ (self, filename, method):\n",
        "        self.file = open (filename, method)\n",
        "\n",
        "    def __enter__ (self):\n",
        "        print ('Enter Method is executed')\n",
        "        return self.file\n",
        "\n",
        "    def __exit__ (self, type, value, traceback):\n",
        "        print (f'{type}, {value}, {traceback}')\n",
        "        print ('Exit method is executed')\n",
        "        self.file.close ()\n",
        "        # return True\n",
        "        if type == Exception:\n",
        "            return True\n",
        "\n",
        "if __name__ == '__main__':\n",
        "    with File ('./test.txt', 'a') as f:\n",
        "        print ('Middle part is executed')\n",
        "        f.write ('Some generic content')\n",
        "        raise Exception ()"
      ]
    },
    {
      "cell_type": "code",
      "execution_count": 3,
      "metadata": {
        "colab": {
          "base_uri": "https://localhost:8080/"
        },
        "id": "mFDF3F697FAe",
        "outputId": "289d8e7b-abdf-41b3-eb18-35d2f392e730"
      },
      "outputs": [
        {
          "output_type": "stream",
          "name": "stdout",
          "text": [
            "Enter Method is executed\n",
            "Middle part is executed\n",
            "Some generic content\n",
            "<class 'Exception'>, , <traceback object at 0x7f2b98c27ec0>\n",
            "Exit method is executed\n"
          ]
        }
      ],
      "source": [
        "class File:\n",
        "    def __init__ (self, filename, method):\n",
        "        self.file = open (filename, method)\n",
        "\n",
        "    def __enter__ (self):\n",
        "        print ('Enter Method is executed')\n",
        "        return self.file\n",
        "\n",
        "    def __exit__ (self, type, value, traceback):\n",
        "        print (f'{type}, {value}, {traceback}')\n",
        "        print ('Exit method is executed')\n",
        "        self.file.close ()\n",
        "        # return True\n",
        "        if type == Exception:\n",
        "            return True\n",
        "\n",
        "if __name__ == '__main__':\n",
        "    with File ('./test.txt', 'r') as f:\n",
        "        print ('Middle part is executed')\n",
        "        print(f.read())\n",
        "        raise Exception ()"
      ]
    },
    {
      "cell_type": "code",
      "execution_count": 4,
      "metadata": {
        "colab": {
          "base_uri": "https://localhost:8080/"
        },
        "id": "GpdTZzlL9lp-",
        "outputId": "c589c797-cd87-40a6-de7b-c217fdbf6c35"
      },
      "outputs": [
        {
          "output_type": "stream",
          "name": "stdout",
          "text": [
            "Enter Method is executed\n",
            "Middle part is executed\n",
            "<class 'Exception'>, , <traceback object at 0x7f2b9a87f040>\n",
            "Exit method is executed\n"
          ]
        }
      ],
      "source": [
        "class File:\n",
        "    def __init__ (self, filename, method):\n",
        "        self.file = open (filename, method)\n",
        "\n",
        "    def __enter__ (self):\n",
        "        print ('Enter Method is executed')\n",
        "        return self.file\n",
        "\n",
        "    def __exit__ (self, type, value, traceback):\n",
        "        print (f'{type}, {value}, {traceback}')\n",
        "        print ('Exit method is executed')\n",
        "        self.file.close ()\n",
        "        # return True\n",
        "        if type == Exception:\n",
        "            return True\n",
        "\n",
        "if __name__ == '__main__':\n",
        "    with File ('./test.txt', 'w') as f:\n",
        "        print ('Middle part is executed')\n",
        "        f.write ('More generic content')\n",
        "        raise Exception ()"
      ]
    },
    {
      "cell_type": "code",
      "execution_count": 5,
      "metadata": {
        "colab": {
          "base_uri": "https://localhost:8080/"
        },
        "id": "DXnI2Fmy9v52",
        "outputId": "dfcad816-46c4-4743-b1e1-b0578a5be370"
      },
      "outputs": [
        {
          "output_type": "stream",
          "name": "stdout",
          "text": [
            "Enter Method is executed\n",
            "Middle part is executed\n",
            "More generic content\n",
            "<class 'Exception'>, , <traceback object at 0x7f2ba8163280>\n",
            "Exit method is executed\n"
          ]
        }
      ],
      "source": [
        "class File:\n",
        "    def __init__ (self, filename, method):\n",
        "        self.file = open (filename, method)\n",
        "\n",
        "    def __enter__ (self):\n",
        "        print ('Enter Method is executed')\n",
        "        return self.file\n",
        "\n",
        "    def __exit__ (self, type, value, traceback):\n",
        "        print (f'{type}, {value}, {traceback}')\n",
        "        print ('Exit method is executed')\n",
        "        self.file.close ()\n",
        "        # return True\n",
        "        if type == Exception:\n",
        "            return True\n",
        "\n",
        "if __name__ == '__main__':\n",
        "    with File ('./test.txt', 'r') as f:\n",
        "        print ('Middle part is executed')\n",
        "        print(f.read())\n",
        "        raise Exception ()"
      ]
    }
  ],
  "metadata": {
    "colab": {
      "provenance": []
    },
    "kernelspec": {
      "display_name": "Python 3",
      "name": "python3"
    },
    "language_info": {
      "name": "python"
    }
  },
  "nbformat": 4,
  "nbformat_minor": 0
}