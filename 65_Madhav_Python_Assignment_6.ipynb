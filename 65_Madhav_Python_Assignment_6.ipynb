{
  "cells": [
    {
      "cell_type": "markdown",
      "metadata": {
        "id": "view-in-github",
        "colab_type": "text"
      },
      "source": [
        "<a href=\"https://colab.research.google.com/github/madhav0247/Python-Experiments/blob/main/65_Madhav_Python_Assignment_6.ipynb\" target=\"_parent\"><img src=\"https://colab.research.google.com/assets/colab-badge.svg\" alt=\"Open In Colab\"/></a>"
      ]
    },
    {
      "cell_type": "markdown",
      "source": [
        "# Python Assignment No: 06"
      ],
      "metadata": {
        "id": "4diZMEqRAhJD"
      },
      "id": "4diZMEqRAhJD"
    },
    {
      "cell_type": "markdown",
      "id": "04e4a21c-3949-4716-9602-7f2855234d19",
      "metadata": {
        "id": "04e4a21c-3949-4716-9602-7f2855234d19"
      },
      "source": [
        "Name: Madhav Prakash Pachakale.\n",
        "\n",
        "Class: SE3/S3/65"
      ]
    },
    {
      "cell_type": "code",
      "execution_count": 2,
      "id": "1c5be985-14ea-4fea-98c9-d2f9e173969a",
      "metadata": {
        "colab": {
          "base_uri": "https://localhost:8080/"
        },
        "id": "1c5be985-14ea-4fea-98c9-d2f9e173969a",
        "outputId": "cbeb7b60-fe24-4abe-8837-436ffa2e28f2"
      },
      "outputs": [
        {
          "output_type": "stream",
          "name": "stdout",
          "text": [
            "Madhav Prakash Pachakale - SE3/S3/65\n",
            "\n",
            "First two rows of the DataFrame:\n",
            "     Name  Age  Salary Department\n",
            "0  Madhav   45   90000      Admin\n",
            "1  Ritesh   38   85000  Logistics\n",
            "\n",
            "Last two rows of the DataFrame:\n",
            "       Name  Age  Salary  Department\n",
            "3  Sneharsh   42   88000  Operations\n",
            "4      Yash   47   91000    Research\n",
            "\n",
            "Salary column:\n",
            "0    90000\n",
            "1    85000\n",
            "2    92000\n",
            "3    88000\n",
            "4    91000\n",
            "Name: Salary, dtype: int64\n",
            "\n",
            "Mean of Salary: 89200.0\n",
            "Standard Deviation of Salary: 2774.89\n",
            "\n",
            "Employees older than 30 in IT department:\n",
            "Empty DataFrame\n",
            "Columns: [Name, Age, Salary, Department]\n",
            "Index: []\n",
            "\n",
            "DataFrame with Bonus column added:\n",
            "       Name  Age  Salary  Department   Bonus\n",
            "0    Madhav   45   90000       Admin  9000.0\n",
            "1    Ritesh   38   85000   Logistics  8500.0\n",
            "2    Vedant   50   92000    Security  9200.0\n",
            "3  Sneharsh   42   88000  Operations  8800.0\n",
            "4      Yash   47   91000    Research  9100.0\n"
          ]
        }
      ],
      "source": [
        "import pandas as pd\n",
        "import numpy as np\n",
        "\n",
        "data = {\n",
        "    'Name': ['Madhav', 'Ritesh', 'Vedant', 'Sneharsh', 'Yash'],\n",
        "    'Age': [45, 38, 50, 42, 47],\n",
        "    'Salary': [90000, 85000, 92000, 88000, 91000],\n",
        "    'Department': ['Admin', 'Logistics', 'Security', 'Operations', 'Research']\n",
        "}\n",
        "\n",
        "df = pd.DataFrame(data)\n",
        "print('Madhav Prakash Pachakale - SE3/S3/65\\n')\n",
        "print(\"First two rows of the DataFrame:\")\n",
        "print(df.head(2))\n",
        "print(\"\\nLast two rows of the DataFrame:\")\n",
        "print(df.tail(2))\n",
        "\n",
        "salary_column = df['Salary']\n",
        "salary_mean = salary_column.mean()\n",
        "salary_std = salary_column.std()\n",
        "\n",
        "print(\"\\nSalary column:\")\n",
        "print(salary_column)\n",
        "print(f\"\\nMean of Salary: {salary_mean}\")\n",
        "print(f\"Standard Deviation of Salary: {salary_std:.2f}\")\n",
        "\n",
        "filtered_df = df[(df['Age'] > 30) & (df['Department'] == 'IT')]\n",
        "print(\"\\nEmployees older than 30 in IT department:\")\n",
        "print(filtered_df)\n",
        "\n",
        "df['Bonus'] = df['Salary'] * 0.1\n",
        "print(\"\\nDataFrame with Bonus column added:\")\n",
        "print(df)"
      ]
    },
    {
      "cell_type": "code",
      "execution_count": null,
      "id": "bc132100-6cca-4f4d-abc4-74f6ca676ea4",
      "metadata": {
        "id": "bc132100-6cca-4f4d-abc4-74f6ca676ea4"
      },
      "outputs": [],
      "source": []
    }
  ],
  "metadata": {
    "kernelspec": {
      "display_name": "Python (PyTorch Env)",
      "language": "python",
      "name": "my_pytorch_env"
    },
    "language_info": {
      "codemirror_mode": {
        "name": "ipython",
        "version": 3
      },
      "file_extension": ".py",
      "mimetype": "text/x-python",
      "name": "python",
      "nbconvert_exporter": "python",
      "pygments_lexer": "ipython3",
      "version": "3.12.0"
    },
    "colab": {
      "provenance": [],
      "include_colab_link": true
    }
  },
  "nbformat": 4,
  "nbformat_minor": 5
}